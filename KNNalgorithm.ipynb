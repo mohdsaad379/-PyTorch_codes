{
  "nbformat": 4,
  "nbformat_minor": 0,
  "metadata": {
    "colab": {
      "name": "KNNalgorithm",
      "provenance": [],
      "authorship_tag": "ABX9TyO7RmNWDTmQa0UohX5dNm/B",
      "include_colab_link": true
    },
    "kernelspec": {
      "name": "python3",
      "display_name": "Python 3"
    },
    "language_info": {
      "name": "python"
    }
  },
  "cells": [
    {
      "cell_type": "markdown",
      "metadata": {
        "id": "view-in-github",
        "colab_type": "text"
      },
      "source": [
        "<a href=\"https://colab.research.google.com/github/mohdsaad379/-PyTorch_codes/blob/master/KNNalgorithm.ipynb\" target=\"_parent\"><img src=\"https://colab.research.google.com/assets/colab-badge.svg\" alt=\"Open In Colab\"/></a>"
      ]
    },
    {
      "cell_type": "code",
      "metadata": {
        "id": "zCV1-TLUCcFi"
      },
      "source": [
        "from sklearn import datasets\n",
        "import pandas as pd\n",
        "from sklearn.model_selection import train_test_split\n",
        "import numpy as np\n",
        "import random"
      ],
      "execution_count": 67,
      "outputs": []
    },
    {
      "cell_type": "code",
      "metadata": {
        "id": "4maNRV6tClbj"
      },
      "source": [
        "iris_data=datasets.load_iris()"
      ],
      "execution_count": 35,
      "outputs": []
    },
    {
      "cell_type": "code",
      "metadata": {
        "id": "MN-Du3oFCsrC"
      },
      "source": [
        "print(iris_data)"
      ],
      "execution_count": null,
      "outputs": []
    },
    {
      "cell_type": "code",
      "metadata": {
        "id": "imGTMemjCu2k"
      },
      "source": [
        "iris_data.target"
      ],
      "execution_count": null,
      "outputs": []
    },
    {
      "cell_type": "code",
      "metadata": {
        "id": "ASpcTkMXC5p9"
      },
      "source": [
        "iris_data1=pd.DataFrame(iris_data.data)\n",
        "iris_data1=np.array(iris_data1)\n",
        "iris_data1\n",
        "iris_data2=pd.DataFrame(iris_data.target)\n",
        "iris_data2=np.array(iris_data2)"
      ],
      "execution_count": 54,
      "outputs": []
    },
    {
      "cell_type": "code",
      "metadata": {
        "colab": {
          "base_uri": "https://localhost:8080/",
          "height": 424
        },
        "id": "HBA70d2bEKys",
        "outputId": "17cba88e-d45e-441c-887d-735bdf17af61"
      },
      "source": [
        "iris_dataFrame=pd.concat([iris_data1,iris_data2],axis=1)\n",
        "iris_dataFrame"
      ],
      "execution_count": 45,
      "outputs": [
        {
          "output_type": "execute_result",
          "data": {
            "text/html": [
              "<div>\n",
              "<style scoped>\n",
              "    .dataframe tbody tr th:only-of-type {\n",
              "        vertical-align: middle;\n",
              "    }\n",
              "\n",
              "    .dataframe tbody tr th {\n",
              "        vertical-align: top;\n",
              "    }\n",
              "\n",
              "    .dataframe thead th {\n",
              "        text-align: right;\n",
              "    }\n",
              "</style>\n",
              "<table border=\"1\" class=\"dataframe\">\n",
              "  <thead>\n",
              "    <tr style=\"text-align: right;\">\n",
              "      <th></th>\n",
              "      <th>0</th>\n",
              "      <th>1</th>\n",
              "      <th>2</th>\n",
              "      <th>3</th>\n",
              "      <th>0</th>\n",
              "    </tr>\n",
              "  </thead>\n",
              "  <tbody>\n",
              "    <tr>\n",
              "      <th>0</th>\n",
              "      <td>5.1</td>\n",
              "      <td>3.5</td>\n",
              "      <td>1.4</td>\n",
              "      <td>0.2</td>\n",
              "      <td>0</td>\n",
              "    </tr>\n",
              "    <tr>\n",
              "      <th>1</th>\n",
              "      <td>4.9</td>\n",
              "      <td>3.0</td>\n",
              "      <td>1.4</td>\n",
              "      <td>0.2</td>\n",
              "      <td>0</td>\n",
              "    </tr>\n",
              "    <tr>\n",
              "      <th>2</th>\n",
              "      <td>4.7</td>\n",
              "      <td>3.2</td>\n",
              "      <td>1.3</td>\n",
              "      <td>0.2</td>\n",
              "      <td>0</td>\n",
              "    </tr>\n",
              "    <tr>\n",
              "      <th>3</th>\n",
              "      <td>4.6</td>\n",
              "      <td>3.1</td>\n",
              "      <td>1.5</td>\n",
              "      <td>0.2</td>\n",
              "      <td>0</td>\n",
              "    </tr>\n",
              "    <tr>\n",
              "      <th>4</th>\n",
              "      <td>5.0</td>\n",
              "      <td>3.6</td>\n",
              "      <td>1.4</td>\n",
              "      <td>0.2</td>\n",
              "      <td>0</td>\n",
              "    </tr>\n",
              "    <tr>\n",
              "      <th>...</th>\n",
              "      <td>...</td>\n",
              "      <td>...</td>\n",
              "      <td>...</td>\n",
              "      <td>...</td>\n",
              "      <td>...</td>\n",
              "    </tr>\n",
              "    <tr>\n",
              "      <th>145</th>\n",
              "      <td>6.7</td>\n",
              "      <td>3.0</td>\n",
              "      <td>5.2</td>\n",
              "      <td>2.3</td>\n",
              "      <td>2</td>\n",
              "    </tr>\n",
              "    <tr>\n",
              "      <th>146</th>\n",
              "      <td>6.3</td>\n",
              "      <td>2.5</td>\n",
              "      <td>5.0</td>\n",
              "      <td>1.9</td>\n",
              "      <td>2</td>\n",
              "    </tr>\n",
              "    <tr>\n",
              "      <th>147</th>\n",
              "      <td>6.5</td>\n",
              "      <td>3.0</td>\n",
              "      <td>5.2</td>\n",
              "      <td>2.0</td>\n",
              "      <td>2</td>\n",
              "    </tr>\n",
              "    <tr>\n",
              "      <th>148</th>\n",
              "      <td>6.2</td>\n",
              "      <td>3.4</td>\n",
              "      <td>5.4</td>\n",
              "      <td>2.3</td>\n",
              "      <td>2</td>\n",
              "    </tr>\n",
              "    <tr>\n",
              "      <th>149</th>\n",
              "      <td>5.9</td>\n",
              "      <td>3.0</td>\n",
              "      <td>5.1</td>\n",
              "      <td>1.8</td>\n",
              "      <td>2</td>\n",
              "    </tr>\n",
              "  </tbody>\n",
              "</table>\n",
              "<p>150 rows × 5 columns</p>\n",
              "</div>"
            ],
            "text/plain": [
              "       0    1    2    3  0\n",
              "0    5.1  3.5  1.4  0.2  0\n",
              "1    4.9  3.0  1.4  0.2  0\n",
              "2    4.7  3.2  1.3  0.2  0\n",
              "3    4.6  3.1  1.5  0.2  0\n",
              "4    5.0  3.6  1.4  0.2  0\n",
              "..   ...  ...  ...  ... ..\n",
              "145  6.7  3.0  5.2  2.3  2\n",
              "146  6.3  2.5  5.0  1.9  2\n",
              "147  6.5  3.0  5.2  2.0  2\n",
              "148  6.2  3.4  5.4  2.3  2\n",
              "149  5.9  3.0  5.1  1.8  2\n",
              "\n",
              "[150 rows x 5 columns]"
            ]
          },
          "metadata": {
            "tags": []
          },
          "execution_count": 45
        }
      ]
    },
    {
      "cell_type": "code",
      "metadata": {
        "id": "v_08_3IYEvbx"
      },
      "source": [
        "def loadDataset(split,trainingSet=[],testingSet=[]):\n",
        "  for i in range(len(iris_dataFrame)):\n",
        "    dataset=iris_dataFrame.iloc[i]\n",
        "    if random.random()<split:\n",
        "      testingSet.append(np.array(dataset))\n",
        "    else:\n",
        "      trainingSet.append(dataset)\n",
        "\n",
        "    \n"
      ],
      "execution_count": 80,
      "outputs": []
    },
    {
      "cell_type": "code",
      "metadata": {
        "id": "I1-cbRArIZzq"
      },
      "source": [
        "training_set=[]\n",
        "testing_set=[]\n",
        "loadDataset(0.1,training_set,testing_set)"
      ],
      "execution_count": 197,
      "outputs": []
    },
    {
      "cell_type": "code",
      "metadata": {
        "colab": {
          "base_uri": "https://localhost:8080/"
        },
        "id": "xHbv5sJ3JCvk",
        "outputId": "9c504017-1083-4926-b639-13d94e150cb7"
      },
      "source": [
        "len(training_set)"
      ],
      "execution_count": 198,
      "outputs": [
        {
          "output_type": "execute_result",
          "data": {
            "text/plain": [
              "131"
            ]
          },
          "metadata": {
            "tags": []
          },
          "execution_count": 198
        }
      ]
    },
    {
      "cell_type": "code",
      "metadata": {
        "id": "NQ094orrVdlm"
      },
      "source": [
        "import math\n",
        "def euclideanDistance(instance1,instance2,length):\n",
        "  distance=0\n",
        "  for x in range(length):\n",
        "    distance+=pow((instance1[x]-instance2[x]),2)\n",
        "  return math.sqrt(distance)"
      ],
      "execution_count": 166,
      "outputs": []
    },
    {
      "cell_type": "code",
      "metadata": {
        "colab": {
          "base_uri": "https://localhost:8080/"
        },
        "id": "iZ3IHX8DWsOF",
        "outputId": "4eb7af52-ff3b-48ec-eeac-fcec4cc03a91"
      },
      "source": [
        "data1=[2,2,2,0]\n",
        "data2=[4,4,4,1]\n",
        "distance=euclideanDistance(data1,data2,3)\n",
        "print('Distance :'+repr(distance))"
      ],
      "execution_count": 167,
      "outputs": [
        {
          "output_type": "stream",
          "text": [
            "Distance :3.4641016151377544\n"
          ],
          "name": "stdout"
        }
      ]
    },
    {
      "cell_type": "code",
      "metadata": {
        "id": "cUh3r6mkXfEf"
      },
      "source": [
        "import operator\n",
        "def getNeighbors(trainingSet,testInstance,k):\n",
        "  distances=[]\n",
        "  length=len(testInstance)-1\n",
        "  for x in range(len(trainingSet)):\n",
        "    dist=euclideanDistance(testInstance,trainingSet[x],length)\n",
        "    distances.append((trainingSet[x],dist))\n",
        "  distances.sort(key=operator.itemgetter(1))\n",
        "  neighbors=[]\n",
        "  for i in range(k):\n",
        "    neighbors.append(distances[x][0])\n",
        "  return neighbors"
      ],
      "execution_count": 168,
      "outputs": []
    },
    {
      "cell_type": "code",
      "metadata": {
        "colab": {
          "base_uri": "https://localhost:8080/"
        },
        "id": "ccsO2WPBZEbV",
        "outputId": "db853c64-306b-40a8-bf98-207f6c9f1e30"
      },
      "source": [
        "testInstance1=[[0.2,0.1,0.3,0.2,1]]\n",
        "getNeighbors(trainingSet=training_set,testInstance=testInstance1,k=3)"
      ],
      "execution_count": 169,
      "outputs": [
        {
          "output_type": "execute_result",
          "data": {
            "text/plain": [
              "[0    5.9\n",
              " 1    3.0\n",
              " 2    5.1\n",
              " 3    1.8\n",
              " 0    2.0\n",
              " Name: 149, dtype: float64, 0    5.9\n",
              " 1    3.0\n",
              " 2    5.1\n",
              " 3    1.8\n",
              " 0    2.0\n",
              " Name: 149, dtype: float64, 0    5.9\n",
              " 1    3.0\n",
              " 2    5.1\n",
              " 3    1.8\n",
              " 0    2.0\n",
              " Name: 149, dtype: float64]"
            ]
          },
          "metadata": {
            "tags": []
          },
          "execution_count": 169
        }
      ]
    },
    {
      "cell_type": "code",
      "metadata": {
        "colab": {
          "base_uri": "https://localhost:8080/"
        },
        "id": "LvZgumUwZzR1",
        "outputId": "b60b8b00-bfad-495d-83a4-f14791b8301f"
      },
      "source": [
        "def getResponse(neighbors):\n",
        "  classVotes={}\n",
        "  for x in range(len(neighbors)):\n",
        "    response=neighbors[x][-1]\n",
        "    if response in classVotes:\n",
        "      classVotes[response]+=1\n",
        "    else:\n",
        "      classVotes[response]=1\n",
        "  sortedVotes=sorted(classVotes.items(),key=operator.itemgetter(1),reverse=True)\n",
        "  return sortedVotes[0][0]  \n",
        "np.array(testing_set).shape\n",
        "testing_set[1]"
      ],
      "execution_count": 170,
      "outputs": [
        {
          "output_type": "execute_result",
          "data": {
            "text/plain": [
              "array([5. , 3.6, 1.4, 0.2, 0. ])"
            ]
          },
          "metadata": {
            "tags": []
          },
          "execution_count": 170
        }
      ]
    },
    {
      "cell_type": "code",
      "metadata": {
        "colab": {
          "base_uri": "https://localhost:8080/"
        },
        "id": "MTfRDt4-csHX",
        "outputId": "87f3a41e-d030-4174-9359-90b051ef5ad2"
      },
      "source": [
        "predictions=[]\n",
        "for i in range(len(testing_set)):\n",
        "  test_temp=testing_set[i].reshape(1,-1)\n",
        "  test_temp=test_temp[:,:4]\n",
        "  neighbors=getNeighbors(trainingSet=training_set,testInstance=test_temp,k=3)\n",
        "  predictions.append(getResponse(np.array(neighbors)))\n",
        "  print(\"prediction : \"+str(predictions[i])+\"  Actual : \"+str(testing_set[i][-1]))"
      ],
      "execution_count": 199,
      "outputs": [
        {
          "output_type": "stream",
          "text": [
            "prediction : 2.0  Actual : 0.0\n",
            "prediction : 2.0  Actual : 0.0\n",
            "prediction : 2.0  Actual : 0.0\n",
            "prediction : 2.0  Actual : 0.0\n",
            "prediction : 2.0  Actual : 0.0\n",
            "prediction : 2.0  Actual : 0.0\n",
            "prediction : 2.0  Actual : 0.0\n",
            "prediction : 2.0  Actual : 0.0\n",
            "prediction : 2.0  Actual : 0.0\n",
            "prediction : 2.0  Actual : 1.0\n",
            "prediction : 2.0  Actual : 1.0\n",
            "prediction : 2.0  Actual : 1.0\n",
            "prediction : 2.0  Actual : 1.0\n",
            "prediction : 2.0  Actual : 1.0\n",
            "prediction : 2.0  Actual : 2.0\n",
            "prediction : 2.0  Actual : 2.0\n",
            "prediction : 2.0  Actual : 2.0\n",
            "prediction : 2.0  Actual : 2.0\n",
            "prediction : 2.0  Actual : 2.0\n"
          ],
          "name": "stdout"
        }
      ]
    },
    {
      "cell_type": "code",
      "metadata": {
        "id": "754vXVWocwUX"
      },
      "source": [
        "def getAccuracy(testSet,predictions):\n",
        "  correct=0\n",
        "  for x in range(len(testSet)):\n",
        "    if testSet[x][-1] is predictions[x]:\n",
        "      correct+=1\n",
        "  return (correct/float(len(testSet)))*100.0"
      ],
      "execution_count": 192,
      "outputs": []
    },
    {
      "cell_type": "code",
      "metadata": {
        "colab": {
          "base_uri": "https://localhost:8080/"
        },
        "id": "jNz5zwH2eQWe",
        "outputId": "34ad1a52-2c77-4a6b-fdd4-6cc2f9eb9ac8"
      },
      "source": [
        "for i in range(len(testing_set)):\n",
        "  print(\"prediction : \"+str(predictions[i])+\"  Actual : \"+str(testing_set[i][-1]))\n",
        "  "
      ],
      "execution_count": 193,
      "outputs": [
        {
          "output_type": "stream",
          "text": [
            "prediction : 2.0  Actual : 0.0\n",
            "prediction : 2.0  Actual : 0.0\n",
            "prediction : 2.0  Actual : 0.0\n",
            "prediction : 2.0  Actual : 0.0\n",
            "prediction : 2.0  Actual : 0.0\n",
            "prediction : 2.0  Actual : 0.0\n",
            "prediction : 2.0  Actual : 0.0\n",
            "prediction : 2.0  Actual : 0.0\n",
            "prediction : 2.0  Actual : 0.0\n",
            "prediction : 2.0  Actual : 0.0\n",
            "prediction : 2.0  Actual : 0.0\n",
            "prediction : 2.0  Actual : 0.0\n",
            "prediction : 2.0  Actual : 0.0\n",
            "prediction : 2.0  Actual : 0.0\n",
            "prediction : 2.0  Actual : 0.0\n",
            "prediction : 2.0  Actual : 1.0\n",
            "prediction : 2.0  Actual : 1.0\n",
            "prediction : 2.0  Actual : 1.0\n",
            "prediction : 2.0  Actual : 1.0\n",
            "prediction : 2.0  Actual : 1.0\n",
            "prediction : 2.0  Actual : 1.0\n",
            "prediction : 2.0  Actual : 1.0\n",
            "prediction : 2.0  Actual : 1.0\n",
            "prediction : 2.0  Actual : 1.0\n",
            "prediction : 2.0  Actual : 1.0\n",
            "prediction : 2.0  Actual : 2.0\n",
            "prediction : 2.0  Actual : 2.0\n",
            "prediction : 2.0  Actual : 2.0\n",
            "prediction : 2.0  Actual : 2.0\n",
            "prediction : 2.0  Actual : 2.0\n",
            "prediction : 2.0  Actual : 2.0\n",
            "prediction : 2.0  Actual : 2.0\n",
            "prediction : 2.0  Actual : 2.0\n",
            "prediction : 2.0  Actual : 2.0\n",
            "prediction : 2.0  Actual : 2.0\n",
            "prediction : 2.0  Actual : 2.0\n"
          ],
          "name": "stdout"
        }
      ]
    },
    {
      "cell_type": "code",
      "metadata": {
        "colab": {
          "base_uri": "https://localhost:8080/"
        },
        "id": "3WSla8Ouj4kn",
        "outputId": "56dbc920-ced7-4dda-8fd4-b9144cb0d6cb"
      },
      "source": [
        "training_set1=[[2,2,2,'a'],[10,10,10,'b'],[5,5,5,'a']]\n",
        "neighbors=getNeighbors(trainingSet=training_set1,testInstance=[[4,4,4]],k=3)\n",
        "print(neighbors)"
      ],
      "execution_count": 194,
      "outputs": [
        {
          "output_type": "stream",
          "text": [
            "[[5, 5, 5, 'a'], [5, 5, 5, 'a'], [5, 5, 5, 'a']]\n"
          ],
          "name": "stdout"
        }
      ]
    },
    {
      "cell_type": "code",
      "metadata": {
        "id": "QJ6AXwTxjnfA"
      },
      "source": [
        ""
      ],
      "execution_count": 194,
      "outputs": []
    }
  ]
}